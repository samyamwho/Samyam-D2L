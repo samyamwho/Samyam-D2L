{
 "cells": [
  {
   "cell_type": "code",
   "execution_count": 1,
   "id": "5339c9b9-00f2-4ecc-b69e-879956ed84c1",
   "metadata": {},
   "outputs": [
    {
     "name": "stdout",
     "output_type": "stream",
     "text": [
      "Collecting torch\n",
      "  Downloading torch-2.5.1-cp39-cp39-win_amd64.whl.metadata (28 kB)\n",
      "Collecting torchvision\n",
      "  Downloading torchvision-0.20.1-cp39-cp39-win_amd64.whl.metadata (6.2 kB)\n",
      "Collecting torchaudio\n",
      "  Downloading torchaudio-2.5.1-cp39-cp39-win_amd64.whl.metadata (6.5 kB)\n",
      "Collecting filelock (from torch)\n",
      "  Downloading filelock-3.16.1-py3-none-any.whl.metadata (2.9 kB)\n",
      "Requirement already satisfied: typing-extensions>=4.8.0 in c:\\users\\acer\\miniconda3\\envs\\d2l\\lib\\site-packages (from torch) (4.12.2)\n",
      "Collecting networkx (from torch)\n",
      "  Downloading networkx-3.2.1-py3-none-any.whl.metadata (5.2 kB)\n",
      "Collecting jinja2 (from torch)\n",
      "  Downloading jinja2-3.1.5-py3-none-any.whl.metadata (2.6 kB)\n",
      "Collecting fsspec (from torch)\n",
      "  Downloading fsspec-2024.12.0-py3-none-any.whl.metadata (11 kB)\n",
      "Collecting sympy==1.13.1 (from torch)\n",
      "  Downloading sympy-1.13.1-py3-none-any.whl.metadata (12 kB)\n",
      "Collecting mpmath<1.4,>=1.1.0 (from sympy==1.13.1->torch)\n",
      "  Downloading mpmath-1.3.0-py3-none-any.whl.metadata (8.6 kB)\n",
      "Collecting numpy (from torchvision)\n",
      "  Downloading numpy-2.0.2-cp39-cp39-win_amd64.whl.metadata (59 kB)\n",
      "Collecting pillow!=8.3.*,>=5.3.0 (from torchvision)\n",
      "  Downloading pillow-11.1.0-cp39-cp39-win_amd64.whl.metadata (9.3 kB)\n",
      "Collecting MarkupSafe>=2.0 (from jinja2->torch)\n",
      "  Downloading MarkupSafe-3.0.2-cp39-cp39-win_amd64.whl.metadata (4.1 kB)\n",
      "Downloading torch-2.5.1-cp39-cp39-win_amd64.whl (203.0 MB)\n",
      "   ---------------------------------------- 0.0/203.0 MB ? eta -:--:--\n",
      "   ---------------------------------------- 1.0/203.0 MB 7.2 MB/s eta 0:00:28\n",
      "    --------------------------------------- 3.9/203.0 MB 10.7 MB/s eta 0:00:19\n",
      "   - -------------------------------------- 5.5/203.0 MB 9.9 MB/s eta 0:00:21\n",
      "   - -------------------------------------- 8.1/203.0 MB 11.7 MB/s eta 0:00:17\n",
      "   - -------------------------------------- 9.7/203.0 MB 10.1 MB/s eta 0:00:20\n",
      "   -- ------------------------------------- 12.8/203.0 MB 10.6 MB/s eta 0:00:18\n",
      "   -- ------------------------------------- 14.7/203.0 MB 10.4 MB/s eta 0:00:19\n",
      "   --- ------------------------------------ 16.5/203.0 MB 10.2 MB/s eta 0:00:19\n",
      "   --- ------------------------------------ 19.7/203.0 MB 10.7 MB/s eta 0:00:18\n",
      "   ---- ----------------------------------- 22.5/203.0 MB 11.1 MB/s eta 0:00:17\n",
      "   ---- ----------------------------------- 24.9/203.0 MB 11.0 MB/s eta 0:00:17\n",
      "   ----- ---------------------------------- 27.0/203.0 MB 11.0 MB/s eta 0:00:17\n",
      "   ----- ---------------------------------- 29.4/203.0 MB 10.9 MB/s eta 0:00:16\n",
      "   ------ --------------------------------- 31.7/203.0 MB 10.9 MB/s eta 0:00:16\n",
      "   ------ --------------------------------- 34.1/203.0 MB 10.9 MB/s eta 0:00:16\n",
      "   ------- -------------------------------- 36.4/203.0 MB 10.9 MB/s eta 0:00:16\n",
      "   ------- -------------------------------- 38.8/203.0 MB 11.0 MB/s eta 0:00:15\n",
      "   -------- ------------------------------- 41.2/203.0 MB 11.0 MB/s eta 0:00:15\n",
      "   -------- ------------------------------- 43.5/203.0 MB 11.0 MB/s eta 0:00:15\n",
      "   --------- ------------------------------ 45.9/203.0 MB 11.0 MB/s eta 0:00:15\n",
      "   --------- ------------------------------ 48.0/203.0 MB 10.9 MB/s eta 0:00:15\n",
      "   --------- ------------------------------ 50.3/203.0 MB 11.0 MB/s eta 0:00:14\n",
      "   ---------- ----------------------------- 53.0/203.0 MB 11.0 MB/s eta 0:00:14\n",
      "   ---------- ----------------------------- 55.3/203.0 MB 11.0 MB/s eta 0:00:14\n",
      "   ----------- ---------------------------- 57.7/203.0 MB 11.1 MB/s eta 0:00:14\n",
      "   ----------- ---------------------------- 60.6/203.0 MB 11.1 MB/s eta 0:00:13\n",
      "   ------------ --------------------------- 63.2/203.0 MB 11.2 MB/s eta 0:00:13\n",
      "   ------------ --------------------------- 65.5/203.0 MB 11.2 MB/s eta 0:00:13\n",
      "   ------------- -------------------------- 68.4/203.0 MB 11.2 MB/s eta 0:00:12\n",
      "   ------------- -------------------------- 71.0/203.0 MB 11.3 MB/s eta 0:00:12\n",
      "   -------------- ------------------------- 73.7/203.0 MB 11.3 MB/s eta 0:00:12\n",
      "   -------------- ------------------------- 76.0/203.0 MB 11.3 MB/s eta 0:00:12\n",
      "   --------------- ------------------------ 78.6/203.0 MB 11.3 MB/s eta 0:00:11\n",
      "   ---------------- ----------------------- 81.3/203.0 MB 11.4 MB/s eta 0:00:11\n",
      "   ---------------- ----------------------- 83.9/203.0 MB 11.4 MB/s eta 0:00:11\n",
      "   ----------------- ---------------------- 86.5/203.0 MB 11.5 MB/s eta 0:00:11\n",
      "   ----------------- ---------------------- 88.9/203.0 MB 11.4 MB/s eta 0:00:10\n",
      "   ----------------- ---------------------- 91.2/203.0 MB 11.4 MB/s eta 0:00:10\n",
      "   ------------------ --------------------- 93.8/203.0 MB 11.5 MB/s eta 0:00:10\n",
      "   ------------------ --------------------- 96.2/203.0 MB 11.5 MB/s eta 0:00:10\n",
      "   ------------------- -------------------- 98.8/203.0 MB 11.4 MB/s eta 0:00:10\n",
      "   ------------------- ------------------- 101.2/203.0 MB 11.5 MB/s eta 0:00:09\n",
      "   ------------------- ------------------- 103.8/203.0 MB 11.5 MB/s eta 0:00:09\n",
      "   -------------------- ------------------ 106.4/203.0 MB 11.5 MB/s eta 0:00:09\n",
      "   -------------------- ------------------ 109.1/203.0 MB 11.5 MB/s eta 0:00:09\n",
      "   --------------------- ----------------- 111.4/203.0 MB 11.5 MB/s eta 0:00:08\n",
      "   --------------------- ----------------- 113.8/203.0 MB 11.5 MB/s eta 0:00:08\n",
      "   ---------------------- ---------------- 116.4/203.0 MB 11.5 MB/s eta 0:00:08\n",
      "   ---------------------- ---------------- 119.0/203.0 MB 11.6 MB/s eta 0:00:08\n",
      "   ----------------------- --------------- 121.4/203.0 MB 11.5 MB/s eta 0:00:08\n",
      "   ----------------------- --------------- 123.7/203.0 MB 11.6 MB/s eta 0:00:07\n",
      "   ------------------------ -------------- 126.4/203.0 MB 11.6 MB/s eta 0:00:07\n",
      "   ------------------------ -------------- 129.2/203.0 MB 11.6 MB/s eta 0:00:07\n",
      "   ------------------------- ------------- 131.6/203.0 MB 11.6 MB/s eta 0:00:07\n",
      "   ------------------------- ------------- 134.2/203.0 MB 11.6 MB/s eta 0:00:06\n",
      "   -------------------------- ------------ 137.1/203.0 MB 11.6 MB/s eta 0:00:06\n",
      "   -------------------------- ------------ 139.7/203.0 MB 11.7 MB/s eta 0:00:06\n",
      "   --------------------------- ----------- 142.6/203.0 MB 11.7 MB/s eta 0:00:06\n",
      "   --------------------------- ----------- 145.5/203.0 MB 11.7 MB/s eta 0:00:05\n",
      "   ---------------------------- ---------- 147.3/203.0 MB 11.7 MB/s eta 0:00:05\n",
      "   ---------------------------- ---------- 149.9/203.0 MB 11.7 MB/s eta 0:00:05\n",
      "   ----------------------------- --------- 152.3/203.0 MB 11.7 MB/s eta 0:00:05\n",
      "   ----------------------------- --------- 154.4/203.0 MB 11.6 MB/s eta 0:00:05\n",
      "   ------------------------------ -------- 156.8/203.0 MB 11.6 MB/s eta 0:00:04\n",
      "   ------------------------------ -------- 158.9/203.0 MB 11.6 MB/s eta 0:00:04\n",
      "   ------------------------------ -------- 161.2/203.0 MB 11.6 MB/s eta 0:00:04\n",
      "   ------------------------------- ------- 163.6/203.0 MB 11.6 MB/s eta 0:00:04\n",
      "   ------------------------------- ------- 166.2/203.0 MB 11.6 MB/s eta 0:00:04\n",
      "   -------------------------------- ------ 168.3/203.0 MB 11.6 MB/s eta 0:00:04\n",
      "   -------------------------------- ------ 170.9/203.0 MB 11.6 MB/s eta 0:00:03\n",
      "   --------------------------------- ----- 173.3/203.0 MB 11.6 MB/s eta 0:00:03\n",
      "   --------------------------------- ----- 175.9/203.0 MB 11.6 MB/s eta 0:00:03\n",
      "   ---------------------------------- ---- 178.5/203.0 MB 11.6 MB/s eta 0:00:03\n",
      "   ---------------------------------- ---- 181.1/203.0 MB 11.6 MB/s eta 0:00:02\n",
      "   ----------------------------------- --- 183.8/203.0 MB 11.6 MB/s eta 0:00:02\n",
      "   ----------------------------------- --- 186.4/203.0 MB 11.6 MB/s eta 0:00:02\n",
      "   ------------------------------------ -- 189.0/203.0 MB 11.6 MB/s eta 0:00:02\n",
      "   ------------------------------------ -- 191.6/203.0 MB 11.6 MB/s eta 0:00:01\n",
      "   ------------------------------------- - 194.2/203.0 MB 11.7 MB/s eta 0:00:01\n",
      "   ------------------------------------- - 196.3/203.0 MB 11.7 MB/s eta 0:00:01\n",
      "   --------------------------------------  198.4/203.0 MB 11.6 MB/s eta 0:00:01\n",
      "   --------------------------------------  199.8/203.0 MB 11.5 MB/s eta 0:00:01\n",
      "   --------------------------------------  202.6/203.0 MB 11.6 MB/s eta 0:00:01\n",
      "   --------------------------------------  202.9/203.0 MB 11.6 MB/s eta 0:00:01\n",
      "   --------------------------------------  202.9/203.0 MB 11.6 MB/s eta 0:00:01\n",
      "   --------------------------------------  202.9/203.0 MB 11.6 MB/s eta 0:00:01\n",
      "   --------------------------------------- 203.0/203.0 MB 11.1 MB/s eta 0:00:00\n",
      "Downloading sympy-1.13.1-py3-none-any.whl (6.2 MB)\n",
      "   ---------------------------------------- 0.0/6.2 MB ? eta -:--:--\n",
      "   ---------------------- ----------------- 3.4/6.2 MB 18.3 MB/s eta 0:00:01\n",
      "   -------------------------------------- - 6.0/6.2 MB 15.4 MB/s eta 0:00:01\n",
      "   ---------------------------------------- 6.2/6.2 MB 13.1 MB/s eta 0:00:00\n",
      "Downloading torchvision-0.20.1-cp39-cp39-win_amd64.whl (1.6 MB)\n",
      "   ---------------------------------------- 0.0/1.6 MB ? eta -:--:--\n",
      "   ---------------------------------------- 1.6/1.6 MB 13.8 MB/s eta 0:00:00\n",
      "Downloading torchaudio-2.5.1-cp39-cp39-win_amd64.whl (2.4 MB)\n",
      "   ---------------------------------------- 0.0/2.4 MB ? eta -:--:--\n",
      "   -------------------------------------- - 2.4/2.4 MB 15.0 MB/s eta 0:00:01\n",
      "   ---------------------------------------- 2.4/2.4 MB 8.7 MB/s eta 0:00:00\n",
      "Downloading pillow-11.1.0-cp39-cp39-win_amd64.whl (2.6 MB)\n",
      "   ---------------------------------------- 0.0/2.6 MB ? eta -:--:--\n",
      "   ---------------------------------------  2.6/2.6 MB 13.7 MB/s eta 0:00:01\n",
      "   ---------------------------------------- 2.6/2.6 MB 12.6 MB/s eta 0:00:00\n",
      "Downloading filelock-3.16.1-py3-none-any.whl (16 kB)\n",
      "Downloading fsspec-2024.12.0-py3-none-any.whl (183 kB)\n",
      "Downloading jinja2-3.1.5-py3-none-any.whl (134 kB)\n",
      "Downloading networkx-3.2.1-py3-none-any.whl (1.6 MB)\n",
      "   ---------------------------------------- 0.0/1.6 MB ? eta -:--:--\n",
      "   ---------------------------------------- 1.6/1.6 MB 12.6 MB/s eta 0:00:00\n",
      "Downloading numpy-2.0.2-cp39-cp39-win_amd64.whl (15.9 MB)\n",
      "   ---------------------------------------- 0.0/15.9 MB ? eta -:--:--\n",
      "   ------- -------------------------------- 2.9/15.9 MB 15.3 MB/s eta 0:00:01\n",
      "   -------------- ------------------------- 5.8/15.9 MB 13.6 MB/s eta 0:00:01\n",
      "   --------------------- ------------------ 8.4/15.9 MB 13.7 MB/s eta 0:00:01\n",
      "   ---------------------------- ----------- 11.3/15.9 MB 13.8 MB/s eta 0:00:01\n",
      "   ---------------------------------- ----- 13.6/15.9 MB 13.0 MB/s eta 0:00:01\n",
      "   -------------------------------------- - 15.5/15.9 MB 12.3 MB/s eta 0:00:01\n",
      "   ---------------------------------------- 15.9/15.9 MB 11.1 MB/s eta 0:00:00\n",
      "Downloading MarkupSafe-3.0.2-cp39-cp39-win_amd64.whl (15 kB)\n",
      "Downloading mpmath-1.3.0-py3-none-any.whl (536 kB)\n",
      "   ---------------------------------------- 0.0/536.2 kB ? eta -:--:--\n",
      "   ---------------------------------------- 536.2/536.2 kB 5.8 MB/s eta 0:00:00\n",
      "Installing collected packages: mpmath, sympy, pillow, numpy, networkx, MarkupSafe, fsspec, filelock, jinja2, torch, torchvision, torchaudio\n",
      "Successfully installed MarkupSafe-3.0.2 filelock-3.16.1 fsspec-2024.12.0 jinja2-3.1.5 mpmath-1.3.0 networkx-3.2.1 numpy-2.0.2 pillow-11.1.0 sympy-1.13.1 torch-2.5.1 torchaudio-2.5.1 torchvision-0.20.1\n",
      "Note: you may need to restart the kernel to use updated packages.\n"
     ]
    }
   ],
   "source": [
    "%pip install torch torchvision torchaudio\n"
   ]
  },
  {
   "cell_type": "code",
   "execution_count": 2,
   "id": "7678b84c-732e-4d5f-910e-d02a901f065b",
   "metadata": {},
   "outputs": [],
   "source": [
    "import torch"
   ]
  },
  {
   "cell_type": "code",
   "execution_count": 3,
   "id": "77891dc3-5b8c-486f-b6a5-6c75a51b1b9c",
   "metadata": {},
   "outputs": [
    {
     "data": {
      "text/plain": [
       "tensor([ 0.,  1.,  2.,  3.,  4.,  5.,  6.,  7.,  8.,  9., 10., 11.])"
      ]
     },
     "execution_count": 3,
     "metadata": {},
     "output_type": "execute_result"
    }
   ],
   "source": [
    "x = torch.arange(12, dtype=torch.float32)\n",
    "x"
   ]
  },
  {
   "cell_type": "code",
   "execution_count": 4,
   "id": "73e39729-73fb-4f8c-9074-bd59245337e9",
   "metadata": {},
   "outputs": [
    {
     "data": {
      "text/plain": [
       "12"
      ]
     },
     "execution_count": 4,
     "metadata": {},
     "output_type": "execute_result"
    }
   ],
   "source": [
    "x.numel()"
   ]
  },
  {
   "cell_type": "code",
   "execution_count": 5,
   "id": "1e631ad5-81c1-4afe-afaf-51eda8e40317",
   "metadata": {},
   "outputs": [
    {
     "data": {
      "text/plain": [
       "torch.Size([12])"
      ]
     },
     "execution_count": 5,
     "metadata": {},
     "output_type": "execute_result"
    }
   ],
   "source": [
    "x.shape"
   ]
  },
  {
   "cell_type": "code",
   "execution_count": 6,
   "id": "758ece98-fe96-495a-926e-cd5bdc36a9d2",
   "metadata": {},
   "outputs": [
    {
     "data": {
      "text/plain": [
       "tensor([[ 0.,  1.,  2.,  3.],\n",
       "        [ 4.,  5.,  6.,  7.],\n",
       "        [ 8.,  9., 10., 11.]])"
      ]
     },
     "execution_count": 6,
     "metadata": {},
     "output_type": "execute_result"
    }
   ],
   "source": [
    "X = x.reshape(-1, 4)\n",
    "X"
   ]
  },
  {
   "cell_type": "code",
   "execution_count": 7,
   "id": "92f8f72b-1f1a-43fe-8ab9-8112784eb9fc",
   "metadata": {},
   "outputs": [
    {
     "data": {
      "text/plain": [
       "tensor([[[1., 1., 1., 1.],\n",
       "         [1., 1., 1., 1.],\n",
       "         [1., 1., 1., 1.]],\n",
       "\n",
       "        [[1., 1., 1., 1.],\n",
       "         [1., 1., 1., 1.],\n",
       "         [1., 1., 1., 1.]],\n",
       "\n",
       "        [[1., 1., 1., 1.],\n",
       "         [1., 1., 1., 1.],\n",
       "         [1., 1., 1., 1.]]])"
      ]
     },
     "execution_count": 7,
     "metadata": {},
     "output_type": "execute_result"
    }
   ],
   "source": [
    "torch.ones((3, 3, 4))"
   ]
  },
  {
   "cell_type": "code",
   "execution_count": 8,
   "id": "e834a7cd-8683-4ac3-ab17-3a9c63eca1be",
   "metadata": {},
   "outputs": [
    {
     "data": {
      "text/plain": [
       "tensor([[0.8741, 0.2903, 0.4300, 0.0747],\n",
       "        [0.7704, 0.2484, 0.7356, 0.6836],\n",
       "        [0.4902, 0.6999, 0.8558, 0.5955]])"
      ]
     },
     "execution_count": 8,
     "metadata": {},
     "output_type": "execute_result"
    }
   ],
   "source": [
    "torch.rand(3,4)"
   ]
  },
  {
   "cell_type": "code",
   "execution_count": 9,
   "id": "37d4f68f-3510-45d4-b616-3d01950389b2",
   "metadata": {},
   "outputs": [
    {
     "data": {
      "text/plain": [
       "tensor([[2, 1, 4, 3],\n",
       "        [1, 2, 3, 4],\n",
       "        [4, 3, 2, 1]])"
      ]
     },
     "execution_count": 9,
     "metadata": {},
     "output_type": "execute_result"
    }
   ],
   "source": [
    "torch.tensor([[2, 1, 4, 3], [1, 2, 3, 4], [4, 3, 2, 1]])"
   ]
  },
  {
   "cell_type": "markdown",
   "id": "4b49ac85-c5ee-48e5-9de0-53467eddcd13",
   "metadata": {},
   "source": [
    "Indexing and Slicing\n"
   ]
  },
  {
   "cell_type": "code",
   "execution_count": 10,
   "id": "17782acb-4ac5-4905-9c89-059cd937074f",
   "metadata": {},
   "outputs": [
    {
     "data": {
      "text/plain": [
       "tensor([[ 0.,  1.,  2.,  3.],\n",
       "        [ 4.,  5.,  6.,  7.],\n",
       "        [ 8.,  9., 10., 11.]])"
      ]
     },
     "execution_count": 10,
     "metadata": {},
     "output_type": "execute_result"
    }
   ],
   "source": [
    "X"
   ]
  },
  {
   "cell_type": "code",
   "execution_count": 11,
   "id": "f086f25a-311b-42bc-9e45-a69f98825c0e",
   "metadata": {},
   "outputs": [
    {
     "data": {
      "text/plain": [
       "(tensor([ 8.,  9., 10., 11.]),\n",
       " tensor([[ 4.,  5.,  6.,  7.],\n",
       "         [ 8.,  9., 10., 11.]]))"
      ]
     },
     "execution_count": 11,
     "metadata": {},
     "output_type": "execute_result"
    }
   ],
   "source": [
    "X[-1], X[1:3]"
   ]
  },
  {
   "cell_type": "code",
   "execution_count": 12,
   "id": "55583bba-67fc-40c8-be81-29f0ac3f6e0a",
   "metadata": {},
   "outputs": [
    {
     "data": {
      "text/plain": [
       "tensor([[ 0.,  1.,  2.,  3.],\n",
       "        [ 4.,  5.,  6.,  7.],\n",
       "        [ 8.,  9., 10., 11.]])"
      ]
     },
     "execution_count": 12,
     "metadata": {},
     "output_type": "execute_result"
    }
   ],
   "source": [
    "X[2,3] = 11\n",
    "X"
   ]
  },
  {
   "cell_type": "code",
   "execution_count": 13,
   "id": "df648da6-f98c-4baf-a242-17d0b44f27f2",
   "metadata": {},
   "outputs": [
    {
     "data": {
      "text/plain": [
       "tensor([[12., 12., 12., 12.],\n",
       "        [12., 12., 12., 12.],\n",
       "        [ 8.,  9., 10., 11.]])"
      ]
     },
     "execution_count": 13,
     "metadata": {},
     "output_type": "execute_result"
    }
   ],
   "source": [
    "X[:2,:]=12\n",
    "X"
   ]
  },
  {
   "cell_type": "markdown",
   "id": "4bf4093f-3563-4b19-8ba5-fbca1dc98031",
   "metadata": {},
   "source": [
    "Operations:\n"
   ]
  },
  {
   "cell_type": "code",
   "execution_count": 14,
   "id": "0bd6ea72-72a4-4b29-8c47-912c9d551746",
   "metadata": {},
   "outputs": [
    {
     "data": {
      "text/plain": [
       "tensor([162754.7969, 162754.7969, 162754.7969, 162754.7969, 162754.7969,\n",
       "        162754.7969, 162754.7969, 162754.7969,   2980.9580,   8103.0840,\n",
       "         22026.4648,  59874.1406])"
      ]
     },
     "execution_count": 14,
     "metadata": {},
     "output_type": "execute_result"
    }
   ],
   "source": [
    "torch.exp(x)"
   ]
  },
  {
   "cell_type": "code",
   "execution_count": 15,
   "id": "114b48ed-543b-40d7-bb0a-7650fa466c3d",
   "metadata": {},
   "outputs": [
    {
     "data": {
      "text/plain": [
       "(tensor([ 3.,  4.,  6., 10.]),\n",
       " tensor([-1.,  0.,  2.,  6.]),\n",
       " tensor([0.5000, 1.0000, 2.0000, 4.0000]),\n",
       " tensor([ 1.,  4., 16., 64.]))"
      ]
     },
     "execution_count": 15,
     "metadata": {},
     "output_type": "execute_result"
    }
   ],
   "source": [
    "x= torch.tensor([1.0,2,4,8])\n",
    "y= torch.tensor([2,2,2,2])\n",
    "x+y, x-y, x/y, x**y"
   ]
  },
  {
   "cell_type": "code",
   "execution_count": 16,
   "id": "6a01a15e-d108-4199-9644-345d6b401da1",
   "metadata": {},
   "outputs": [
    {
     "data": {
      "text/plain": [
       "(tensor([[ 0.,  1.,  2.,  3.],\n",
       "         [ 4.,  5.,  6.,  7.],\n",
       "         [ 8.,  9., 10., 11.],\n",
       "         [ 2.,  1.,  4.,  3.],\n",
       "         [ 1.,  2.,  3.,  4.],\n",
       "         [ 4.,  3.,  2.,  1.]]),\n",
       " tensor([[ 0.,  1.,  2.,  3.,  2.,  1.,  4.,  3.],\n",
       "         [ 4.,  5.,  6.,  7.,  1.,  2.,  3.,  4.],\n",
       "         [ 8.,  9., 10., 11.,  4.,  3.,  2.,  1.]]))"
      ]
     },
     "execution_count": 16,
     "metadata": {},
     "output_type": "execute_result"
    }
   ],
   "source": [
    "X= torch.arange(12, dtype=torch.float32).reshape((3,4))\n",
    "Y= torch.tensor([[2.0,1,4,3],[1,2,3,4],[4,3,2,1]])\n",
    "torch.cat((X,Y),dim=0),torch.cat((X,Y),dim=1)"
   ]
  },
  {
   "cell_type": "code",
   "execution_count": 17,
   "id": "88aa533a-ab18-4c22-af8c-132d3ecf3c5c",
   "metadata": {},
   "outputs": [
    {
     "data": {
      "text/plain": [
       "tensor([[False,  True, False,  True],\n",
       "        [False, False, False, False],\n",
       "        [False, False, False, False]])"
      ]
     },
     "execution_count": 17,
     "metadata": {},
     "output_type": "execute_result"
    }
   ],
   "source": [
    "X==Y"
   ]
  },
  {
   "cell_type": "code",
   "execution_count": 18,
   "id": "5d90ed56-18ae-4e76-8755-ff721c9ebbb7",
   "metadata": {},
   "outputs": [
    {
     "data": {
      "text/plain": [
       "tensor(66.)"
      ]
     },
     "execution_count": 18,
     "metadata": {},
     "output_type": "execute_result"
    }
   ],
   "source": [
    "X.sum()"
   ]
  },
  {
   "cell_type": "markdown",
   "id": "95c7bbb9-628a-4ced-812b-0e0fa386d3ce",
   "metadata": {},
   "source": [
    "Broadcasting"
   ]
  },
  {
   "cell_type": "code",
   "execution_count": 19,
   "id": "b903707d-3c32-4203-b776-901a465199ae",
   "metadata": {},
   "outputs": [
    {
     "data": {
      "text/plain": [
       "(tensor([[0],\n",
       "         [1],\n",
       "         [2]]),\n",
       " tensor([[0, 1, 2]]))"
      ]
     },
     "execution_count": 19,
     "metadata": {},
     "output_type": "execute_result"
    }
   ],
   "source": [
    "a= torch.arange(3).reshape((3,1))\n",
    "b= torch.arange(3).reshape((1,3))\n",
    "a,b"
   ]
  },
  {
   "cell_type": "code",
   "execution_count": 20,
   "id": "21696045-b9bc-495b-a882-a514dd502c1b",
   "metadata": {},
   "outputs": [
    {
     "data": {
      "text/plain": [
       "tensor([[0, 1, 2],\n",
       "        [1, 2, 3],\n",
       "        [2, 3, 4]])"
      ]
     },
     "execution_count": 20,
     "metadata": {},
     "output_type": "execute_result"
    }
   ],
   "source": [
    "a+b"
   ]
  },
  {
   "cell_type": "markdown",
   "id": "421e29ab-42ee-458a-8704-e8e98115e3ba",
   "metadata": {},
   "source": [
    "Saving Memory"
   ]
  },
  {
   "cell_type": "code",
   "execution_count": 21,
   "id": "8c14bb29-74f7-46bc-9735-65d878536587",
   "metadata": {},
   "outputs": [
    {
     "data": {
      "text/plain": [
       "False"
      ]
     },
     "execution_count": 21,
     "metadata": {},
     "output_type": "execute_result"
    }
   ],
   "source": [
    "before =id(Y)\n",
    "Y=Y+X\n",
    "id(Y)== before"
   ]
  },
  {
   "cell_type": "code",
   "execution_count": 22,
   "id": "18488035-168a-4417-a7e5-5dd7c4869050",
   "metadata": {},
   "outputs": [
    {
     "name": "stdout",
     "output_type": "stream",
     "text": [
      "id(Z): 2204030223520\n",
      "id(Z): 2204030223520\n"
     ]
    }
   ],
   "source": [
    "Z= torch.zeros_like(Y)\n",
    "print('id(Z):',id(Z))\n",
    "Z[:]=X+Y\n",
    "print('id(Z):',id(Z))"
   ]
  },
  {
   "cell_type": "code",
   "execution_count": 23,
   "id": "37d78ea0-716a-42cf-81b3-14cc51804409",
   "metadata": {},
   "outputs": [
    {
     "data": {
      "text/plain": [
       "True"
      ]
     },
     "execution_count": 23,
     "metadata": {},
     "output_type": "execute_result"
    }
   ],
   "source": [
    "before = id(X)\n",
    "X += Y\n",
    "id(X) == before"
   ]
  },
  {
   "cell_type": "code",
   "execution_count": 24,
   "id": "1991ec84-73f3-4ac4-aa52-a9c4ac5509ae",
   "metadata": {},
   "outputs": [
    {
     "data": {
      "text/plain": [
       "(numpy.ndarray, torch.Tensor)"
      ]
     },
     "execution_count": 24,
     "metadata": {},
     "output_type": "execute_result"
    }
   ],
   "source": [
    "A = X.numpy()\n",
    "B = torch.from_numpy(A)\n",
    "type(A), type(B)"
   ]
  },
  {
   "cell_type": "code",
   "execution_count": 25,
   "id": "5b3b78f4-9684-4a77-b47b-9bccda04a4e4",
   "metadata": {},
   "outputs": [
    {
     "data": {
      "text/plain": [
       "(tensor([3.5000]), 3.5, 3.5, 3)"
      ]
     },
     "execution_count": 25,
     "metadata": {},
     "output_type": "execute_result"
    }
   ],
   "source": [
    "a = torch.tensor([3.5])\n",
    "a, a.item(), float(a), int(a)"
   ]
  },
  {
   "cell_type": "markdown",
   "id": "0d451585-259b-465d-9782-716ee9e90f23",
   "metadata": {},
   "source": [
    "2.1.8 Exercises"
   ]
  },
  {
   "cell_type": "markdown",
   "id": "ec91c25e-ebde-45a1-8d90-72c429b257b1",
   "metadata": {},
   "source": [
    "Run the code in this section. Change the conditional statement X == Y to X < Y or X > Y, and then see what kind of tensor you can get."
   ]
  },
  {
   "cell_type": "code",
   "execution_count": 26,
   "id": "5c0625b3-8fa7-4395-b2ae-34ccda99c8cd",
   "metadata": {},
   "outputs": [
    {
     "data": {
      "text/plain": [
       "tensor([[False, False, False, False],\n",
       "        [False, False, False, False],\n",
       "        [False, False, False, False]])"
      ]
     },
     "execution_count": 26,
     "metadata": {},
     "output_type": "execute_result"
    }
   ],
   "source": [
    "X<Y "
   ]
  },
  {
   "cell_type": "markdown",
   "id": "74fa0779-5792-4a7b-a078-9018ae291405",
   "metadata": {},
   "source": [
    "While replacing X==Y to X<Y or X>Y, the result of this operation is the Boolean values, as seen before, where every element represents the outcome of comparing corresponding elements of tensors X and Y. The Boolean tensor X < Y results in indicating for which parts the condition has been satisfied based on the element value of both X and Y. If all of these are 'False', then you may say a condition does not satisfy for any element."
   ]
  },
  {
   "cell_type": "code",
   "execution_count": 27,
   "id": "832163af-ebec-4a9e-bb60-cdb12109a4c2",
   "metadata": {},
   "outputs": [
    {
     "name": "stdout",
     "output_type": "stream",
     "text": [
      "Tensor a:\n",
      "tensor([[[0, 1, 2]],\n",
      "\n",
      "        [[3, 4, 5]]])\n",
      "Tensor b:\n",
      "tensor([[[0, 1],\n",
      "         [2, 3]]])\n"
     ]
    },
    {
     "ename": "RuntimeError",
     "evalue": "The size of tensor a (3) must match the size of tensor b (2) at non-singleton dimension 2",
     "output_type": "error",
     "traceback": [
      "\u001b[1;31m---------------------------------------------------------------------------\u001b[0m",
      "\u001b[1;31mRuntimeError\u001b[0m                              Traceback (most recent call last)",
      "Cell \u001b[1;32mIn[27], line 11\u001b[0m\n\u001b[0;32m      8\u001b[0m \u001b[38;5;28mprint\u001b[39m(b)\n\u001b[0;32m     10\u001b[0m \u001b[38;5;66;03m# Perform elementwise addition using broadcasting\u001b[39;00m\n\u001b[1;32m---> 11\u001b[0m result \u001b[38;5;241m=\u001b[39m \u001b[43ma\u001b[49m\u001b[43m \u001b[49m\u001b[38;5;241;43m+\u001b[39;49m\u001b[43m \u001b[49m\u001b[43mb\u001b[49m\n\u001b[0;32m     12\u001b[0m \u001b[38;5;28mprint\u001b[39m(\u001b[38;5;124m\"\u001b[39m\u001b[38;5;124mResult of a + b:\u001b[39m\u001b[38;5;124m\"\u001b[39m)\n\u001b[0;32m     13\u001b[0m \u001b[38;5;28mprint\u001b[39m(result)\n",
      "\u001b[1;31mRuntimeError\u001b[0m: The size of tensor a (3) must match the size of tensor b (2) at non-singleton dimension 2"
     ]
    }
   ],
   "source": [
    "\n",
    "# Create 3-dimensional tensors\n",
    "a = torch.arange(6).reshape((2, 1, 3))\n",
    "b = torch.arange(4).reshape((1, 2, 2))\n",
    "\n",
    "print(\"Tensor a:\")\n",
    "print(a)\n",
    "print(\"Tensor b:\")\n",
    "print(b)\n",
    "\n",
    "# Perform elementwise addition using broadcasting\n",
    "result = a + b\n",
    "print(\"Result of a + b:\")\n",
    "print(result)\n"
   ]
  },
  {
   "cell_type": "code",
   "execution_count": null,
   "id": "fe76e841-4c0f-44f4-9716-b9dba32bb751",
   "metadata": {},
   "outputs": [],
   "source": []
  }
 ],
 "metadata": {
  "kernelspec": {
   "display_name": "d2l",
   "language": "python",
   "name": "python3"
  },
  "language_info": {
   "codemirror_mode": {
    "name": "ipython",
    "version": 3
   },
   "file_extension": ".py",
   "mimetype": "text/x-python",
   "name": "python",
   "nbconvert_exporter": "python",
   "pygments_lexer": "ipython3",
   "version": "3.9.21"
  }
 },
 "nbformat": 4,
 "nbformat_minor": 5
}
